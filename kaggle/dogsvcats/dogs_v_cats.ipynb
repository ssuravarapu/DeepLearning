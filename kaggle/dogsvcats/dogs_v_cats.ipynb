{
 "cells": [
  {
   "cell_type": "code",
   "execution_count": 24,
   "metadata": {},
   "outputs": [],
   "source": [
    "import os\n",
    "import time\n",
    "import shutil\n",
    "import numpy as np\n",
    "from glob import glob\n",
    "from PIL import Image \n",
    "from sklearn.utils import shuffle\n",
    "from tqdm import tqdm\n",
    "from keras import models\n",
    "from keras.models import Sequential\n",
    "from keras.layers import Dense, Dropout, Conv2D, MaxPooling2D, Flatten, BatchNormalization\n",
    "from keras.callbacks import EarlyStopping, ModelCheckpoint\n",
    "from keras.applications import VGG16\n",
    "from keras.optimizers import Adam\n",
    "from keras.preprocessing.image import ImageDataGenerator\n",
    "from keras import utils"
   ]
  },
  {
   "cell_type": "markdown",
   "metadata": {},
   "source": [
    "Create Training Directories for Dogs and Cats"
   ]
  },
  {
   "cell_type": "code",
   "execution_count": 3,
   "metadata": {},
   "outputs": [],
   "source": [
    "pwd = %pwd\n",
    "train_path = pwd + '/train/'\n",
    "cats_path = train_path + 'cats/'\n",
    "dogs_path = train_path + 'dogs/'\n",
    "\n",
    "if not os.path.exists(cats_path):\n",
    "    os.makedirs(cats_path)\n",
    "\n",
    "if not os.path.exists(dogs_path):\n",
    "    os.makedirs(dogs_path)\n",
    "    \n",
    "for f in os.listdir(train_path):\n",
    "    if f.endswith('.jpg'):\n",
    "        if f.startswith('cat'):\n",
    "            shutil.move(train_path + f, cats_path + f)\n",
    "        elif f.startswith('dog'):\n",
    "            shutil.move(train_path + f, dogs_path + f)"
   ]
  },
  {
   "cell_type": "markdown",
   "metadata": {},
   "source": [
    "Pre-process data"
   ]
  },
  {
   "cell_type": "code",
   "execution_count": 8,
   "metadata": {},
   "outputs": [
    {
     "name": "stdout",
     "output_type": "stream",
     "text": [
      "Number of cat files: 12500\n",
      "Number of dog files: 12500\n",
      "Resizing images and loading training set ...\n",
      "... completed.\n"
     ]
    }
   ],
   "source": [
    "cat_files = sorted(glob(cats_path + 'cat*.jpg'))\n",
    "dog_files = sorted(glob(dogs_path + 'dog*.jpg'))\n",
    "\n",
    "print(\"Number of cat files: \" + str(len(cat_files)))\n",
    "print(\"Number of dog files: \" + str(len(dog_files)))\n",
    "\n",
    "n_files = len(cat_files) + len(dog_files)\n",
    "\n",
    "size_image = 64\n",
    "\n",
    "x_train = np.zeros((n_files, size_image, size_image, 3), dtype='float64')\n",
    "y_train = np.zeros(n_files)\n",
    "count = 0\n",
    "\n",
    "print(\"Resizing images and loading training set ...\")\n",
    "\n",
    "for f in cat_files:\n",
    "    img = Image.open(f)\n",
    "    new_img = img.resize((size_image, size_image))\n",
    "    x_train[count] = np.asarray(new_img, dtype='float64')\n",
    "    y_train[count] = 0\n",
    "    count = count + 1\n",
    "\n",
    "for f in dog_files:\n",
    "    img = Image.open(f)\n",
    "    new_img = img.resize((size_image, size_image))\n",
    "    x_train[count] = np.asarray(new_img, dtype='float64')\n",
    "    y_train[count] = 1\n",
    "    count = count + 1\n",
    "\n",
    "print(\"... completed.\")"
   ]
  },
  {
   "cell_type": "markdown",
   "metadata": {},
   "source": [
    "Shuffle cats and dogs, and normalize"
   ]
  },
  {
   "cell_type": "code",
   "execution_count": 19,
   "metadata": {},
   "outputs": [
    {
     "name": "stdout",
     "output_type": "stream",
     "text": [
      "permutation: [18781   864  5298 ...,  8046 17069  1997]\n"
     ]
    }
   ],
   "source": [
    "num_classes = 2\n",
    "\n",
    "permutation = np.random.permutation(x_train.shape[0])\n",
    "print(\"permutation: \" + str(permutation))\n",
    "\n",
    "x_train = x_train[permutation]\n",
    "y_train = y_train[permutation]\n",
    "\n",
    "x_train = x_train / 255.\n",
    "y_train = utils.to_categorical(y_train, num_classes)"
   ]
  },
  {
   "cell_type": "code",
   "execution_count": 20,
   "metadata": {},
   "outputs": [
    {
     "data": {
      "image/png": "[encoded data removed]",
      "text/plain": [
       "<PIL.Image.Image image mode=RGB size=64x64 at 0x1B8715710>"
      ]
     },
     "execution_count": 20,
     "metadata": {},
     "output_type": "execute_result"
    }
   ],
   "source": [
    "Image.fromarray(np.uint8(x_train[10001] * 255))"
   ]
  },
  {
   "cell_type": "code",
   "execution_count": 21,
   "metadata": {},
   "outputs": [
    {
     "data": {
      "text/plain": [
       "array([ 1.,  0.])"
      ]
     },
     "execution_count": 21,
     "metadata": {},
     "output_type": "execute_result"
    }
   ],
   "source": [
    "y_train[10001]"
   ]
  },
  {
   "cell_type": "markdown",
   "metadata": {},
   "source": [
    "**Build Model**\n",
    "\n",
    "This model resulted in good 83-85% validation and test accuracies"
   ]
  },
  {
   "cell_type": "code",
   "execution_count": 22,
   "metadata": {},
   "outputs": [
    {
     "name": "stdout",
     "output_type": "stream",
     "text": [
      "_________________________________________________________________\n",
      "Layer (type)                 Output Shape              Param #   \n",
      "=================================================================\n",
      "conv2d_4 (Conv2D)            (None, 64, 64, 32)        896       \n",
      "_________________________________________________________________\n",
      "max_pooling2d_4 (MaxPooling2 (None, 32, 32, 32)        0         \n",
      "_________________________________________________________________\n",
      "dropout_5 (Dropout)          (None, 32, 32, 32)        0         \n",
      "_________________________________________________________________\n",
      "conv2d_5 (Conv2D)            (None, 32, 32, 64)        18496     \n",
      "_________________________________________________________________\n",
      "max_pooling2d_5 (MaxPooling2 (None, 16, 16, 64)        0         \n",
      "_________________________________________________________________\n",
      "dropout_6 (Dropout)          (None, 16, 16, 64)        0         \n",
      "_________________________________________________________________\n",
      "conv2d_6 (Conv2D)            (None, 16, 16, 128)       73856     \n",
      "_________________________________________________________________\n",
      "max_pooling2d_6 (MaxPooling2 (None, 8, 8, 128)         0         \n",
      "_________________________________________________________________\n",
      "dropout_7 (Dropout)          (None, 8, 8, 128)         0         \n",
      "_________________________________________________________________\n",
      "flatten_2 (Flatten)          (None, 8192)              0         \n",
      "_________________________________________________________________\n",
      "batch_normalization_3 (Batch (None, 8192)              32768     \n",
      "_________________________________________________________________\n",
      "dense_2 (Dense)              (None, 256)               2097408   \n",
      "_________________________________________________________________\n",
      "batch_normalization_4 (Batch (None, 256)               1024      \n",
      "_________________________________________________________________\n",
      "dropout_8 (Dropout)          (None, 256)               0         \n",
      "_________________________________________________________________\n",
      "dense_3 (Dense)              (None, 2)                 514       \n",
      "=================================================================\n",
      "Total params: 2,224,962\n",
      "Trainable params: 2,208,066\n",
      "Non-trainable params: 16,896\n",
      "_________________________________________________________________\n"
     ]
    }
   ],
   "source": [
    "model = Sequential()\n",
    "model.add(Conv2D(32, (3,3), activation='relu', padding='same', input_shape=x_train.shape[1:]))\n",
    "model.add(MaxPooling2D(pool_size=(2,2)))\n",
    "model.add(Dropout(0.5))\n",
    "\n",
    "model.add(Conv2D(64, (3,3), activation='relu', padding='same'))\n",
    "model.add(MaxPooling2D(pool_size=(2,2)))\n",
    "model.add(Dropout(0.5))\n",
    "\n",
    "model.add(Conv2D(128, (3,3), activation='relu', padding='same'))\n",
    "model.add(MaxPooling2D(pool_size=(2,2)))\n",
    "model.add(Dropout(0.5))\n",
    "\n",
    "model.add(Flatten())\n",
    "model.add(BatchNormalization())\n",
    "model.add(Dense(256, activation='relu'))\n",
    "model.add(BatchNormalization())\n",
    "model.add(Dropout(0.75))\n",
    "model.add(Dense(num_classes, activation='softmax'))\n",
    "\n",
    "model.compile(optimizer='adam', loss='categorical_crossentropy', metrics=['accuracy'])\n",
    "\n",
    "model.summary()"
   ]
  },
  {
   "cell_type": "markdown",
   "metadata": {},
   "source": [
    "Train Model"
   ]
  },
  {
   "cell_type": "code",
   "execution_count": null,
   "metadata": {},
   "outputs": [],
   "source": [
    "batch_size = 64\n",
    "epochs = 30\n",
    "\n",
    "X_train = x_train[:22500]\n",
    "Y_train = y_train[:22500]\n",
    "X_valid = x_train[22500:23750]\n",
    "Y_valid = y_train[22500:23750]\n",
    "X_test = x_train[23750:25000]\n",
    "Y_test = y_train[23750:25000]\n",
    "\n",
    "early_stopping = EarlyStopping(monitor='val_loss', patience=2)\n",
    "model_checkpoint = ModelCheckpoint(filepath='dogs_v_cats', verbose=1, save_best_only=True)\n",
    "\n",
    "start = time.time()\n",
    "model.fit(X_train, Y_train, validation_data=[X_valid, Y_valid], callbacks=[model_checkpoint, early_stopping], \n",
    "          epochs=epochs, batch_size=batch_size, verbose=2)\n",
    "end = time.time()\n",
    "\n",
    "print(\"Model took %0.2f seconds to train\"%(end - start))\n",
    "\n",
    "# Re-instantiate model to the best model saved\n",
    "model = models.load_model('dogs_v_cats')\n",
    "\n",
    "y_pred = model.predict(X_test, batch_size=batch_size)\n",
    "score = model.evaluate(X_test, Y_test, verbose=0)\n",
    "\n",
    "print(score)\n"
   ]
  },
  {
   "cell_type": "code",
   "execution_count": 10,
   "metadata": {},
   "outputs": [
    {
     "name": "stderr",
     "output_type": "stream",
     "text": [
      "100%|██████████| 12500/12500 [01:07<00:00, 183.97it/s]\n"
     ]
    }
   ],
   "source": [
    "test_path = pwd + '/test/'\n",
    "\n",
    "testing_data = []\n",
    "for image in tqdm(os.listdir(test_path)):\n",
    "    path = os.path.join(test_path, image)\n",
    "    img_num = image.split('.')[0]\n",
    "    img = Image.open(path)\n",
    "    new_img = img.resize((size_image, size_image))\n",
    "    testing_data.append([np.asarray(new_img, dtype='float64'), img_num])\n",
    "\n",
    "#    np.save('test_data.npy', testing_data)\n"
   ]
  },
  {
   "cell_type": "code",
   "execution_count": 16,
   "metadata": {
    "collapsed": true
   },
   "outputs": [],
   "source": [
    "with open('submission-file.csv', 'w') as f:\n",
    "    f.write('id,label\\n')"
   ]
  },
  {
   "cell_type": "code",
   "execution_count": 17,
   "metadata": {},
   "outputs": [
    {
     "name": "stderr",
     "output_type": "stream",
     "text": [
      "100%|██████████| 12500/12500 [00:38<00:00, 320.91it/s]\n"
     ]
    }
   ],
   "source": [
    "model = models.load_model('dogs_v_cats')\n",
    "\n",
    "with open('submission-file.csv', 'a') as f:\n",
    "    for data in tqdm(testing_data):\n",
    "        img_num = data[1]\n",
    "        img_data = data[0]\n",
    "        orig = img_data\n",
    "        data = img_data.reshape(1, size_image, size_image, 3)\n",
    "        model_out = np.clip(model.predict([data])[0], 0.05, 0.95) #np.clip is used to keep the range of predictions between 0.05 and 0.95\n",
    "        \n",
    "        f.write('{},{}\\n'.format(img_num, model_out[1]))"
   ]
  },
  {
   "cell_type": "code",
   "execution_count": null,
   "metadata": {
    "collapsed": true
   },
   "outputs": [],
   "source": [
    "model2 = Sequential()\n",
    "model2.add(Conv2D(32, (3,3), activation='relu', padding='same', input_shape=x_train.shape[1:]))\n",
    "model2.add(MaxPooling2D(pool_size=(2,2)))\n",
    "model2.add(Dropout(0.5))\n",
    "\n",
    "model2.add(Conv2D(64, (3,3), activation='relu', padding='same', input_shape=x_train.shape[1:]))\n",
    "model2.add(MaxPooling2D(pool_size=(2,2)))\n",
    "model2.add(Dropout(0.5))\n",
    "\n",
    "model2.add(Conv2D(128, (3,3), activation='relu', padding='same'))\n",
    "model2.add(MaxPooling2D(pool_size=(2,2)))\n",
    "model2.add(Dropout(0.5))\n",
    "\n",
    "model2.add(Flatten())\n",
    "model2.add(BatchNormalization())\n",
    "\n",
    "model2.add(Dense(256, activation='relu'))\n",
    "model2.add(BatchNormalization())\n",
    "model2.add(Dropout(0.5))\n",
    "model2.add(Dense(num_classes, activation='softmax'))\n",
    "\n",
    "model2.compile(optimizer='adam', loss='categorical_crossentropy', metrics=['accuracy'])\n",
    "\n",
    "model2.summary()"
   ]
  },
  {
   "cell_type": "code",
   "execution_count": 26,
   "metadata": {},
   "outputs": [
    {
     "name": "stdout",
     "output_type": "stream",
     "text": [
      "Epoch 1/30\n",
      "Epoch 00000: val_loss improved from inf to 0.69699, saving model to dogs_v_cats\n",
      "154s - loss: 0.8001 - acc: 0.5623 - val_loss: 0.6970 - val_acc: 0.5152\n",
      "Epoch 2/30\n",
      "Epoch 00001: val_loss did not improve\n",
      "157s - loss: 0.6511 - acc: 0.6155 - val_loss: 0.7234 - val_acc: 0.4848\n",
      "Epoch 3/30\n",
      "Epoch 00002: val_loss did not improve\n",
      "157s - loss: 0.6368 - acc: 0.6295 - val_loss: 0.8847 - val_acc: 0.5152\n",
      "Epoch 4/30\n",
      "Epoch 00003: val_loss did not improve\n",
      "159s - loss: 0.6166 - acc: 0.6556 - val_loss: 0.9373 - val_acc: 0.5152\n",
      "Model took 629.31 seconds to train\n",
      "[0.71098765544891362, 0.47760000000000002]\n"
     ]
    }
   ],
   "source": [
    "batch_size = 64\n",
    "epochs = 30\n",
    "\n",
    "X_train = x_train[:22500]\n",
    "Y_train = y_train[:22500]\n",
    "X_valid = x_train[22500:23750]\n",
    "Y_valid = y_train[22500:23750]\n",
    "X_test = x_train[23750:25000]\n",
    "Y_test = y_train[23750:25000]\n",
    "\n",
    "early_stopping = EarlyStopping(monitor='val_loss', patience=2)\n",
    "model_checkpoint = ModelCheckpoint(filepath='dogs_v_cats_dataaug', verbose=1, save_best_only=True)\n",
    "\n",
    "datagen = ImageDataGenerator(width_shift_range=0.2,\n",
    "                             height_shift_range=0.2,\n",
    "                             zoom_range=0.25,\n",
    "                             horizontal_flip=True)\n",
    "\n",
    "datagen.fit(X_train)\n",
    "\n",
    "steps = len(X_train) / batch_size\n",
    "start = time.time()\n",
    "# fits the model on batches with real-time data augmentation:\n",
    "model2.fit_generator(datagen.flow(X_train, Y_train, batch_size=batch_size),\n",
    "                    steps_per_epoch=steps, epochs=epochs, \n",
    "                    validation_data=[X_valid, Y_valid], callbacks=[model_checkpoint, early_stopping],\n",
    "                    verbose=2)\n",
    "end = time.time()\n",
    "\n",
    "print(\"Model took %0.2f seconds to train\"%(end - start))\n",
    "\n",
    "# Re-instantiate model to the best model saved\n",
    "model2 = models.load_model('dogs_v_cats_dataaug')\n",
    "\n",
    "y_pred = model2.predict(X_test, batch_size=batch_size)\n",
    "score = model2.evaluate(X_test, Y_test, verbose=0)\n",
    "\n",
    "print(score)"
   ]
  },
  {
   "cell_type": "code",
   "execution_count": null,
   "metadata": {
    "collapsed": true
   },
   "outputs": [],
   "source": []
  }
 ],
 "metadata": {
  "kernelspec": {
   "display_name": "Python 3",
   "language": "python",
   "name": "python3"
  },
  "language_info": {
   "codemirror_mode": {
    "name": "ipython",
    "version": 3
   },
   "file_extension": ".py",
   "mimetype": "text/x-python",
   "name": "python",
   "nbconvert_exporter": "python",
   "pygments_lexer": "ipython3",
   "version": "3.6.1"
  }
 },
 "nbformat": 4,
 "nbformat_minor": 2
}
